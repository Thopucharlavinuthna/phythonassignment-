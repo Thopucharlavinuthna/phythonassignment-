{
  "nbformat": 4,
  "nbformat_minor": 0,
  "metadata": {
    "colab": {
      "name": "Untitled4.ipynb",
      "provenance": []
    },
    "kernelspec": {
      "name": "python3",
      "display_name": "Python 3"
    }
  },
  "cells": [
    {
      "cell_type": "code",
      "metadata": {
        "id": "rfaXx3JGQhmy",
        "colab_type": "code",
        "colab": {
          "base_uri": "https://localhost:8080/",
          "height": 33
        },
        "outputId": "6dfa9e93-1e63-4401-ca74-fe8f93da7660"
      },
      "source": [
        "#question:12\n",
        "def Num_list(a,b,c,d,e,f):\n",
        "    return a+b,b+c,c+d,d+e,e+f\n",
        "Num_list(5,6,8,34,89,1) "
      ],
      "execution_count": null,
      "outputs": [
        {
          "output_type": "execute_result",
          "data": {
            "text/plain": [
              "(11, 14, 42, 123, 90)"
            ]
          },
          "metadata": {
            "tags": []
          },
          "execution_count": 20
        }
      ]
    },
    {
      "cell_type": "code",
      "metadata": {
        "id": "7H01doRpS5Go",
        "colab_type": "code",
        "colab": {
          "base_uri": "https://localhost:8080/",
          "height": 33
        },
        "outputId": "57f10bd5-cdc0-4aaf-c587-84f3aa9dae75"
      },
      "source": [
        "#question:13\n",
        "def Num_tuple(a,b,c,d,e,f):\n",
        "    return(a*b,a*b*c,a*b*c*d,a*b*c*d*e,a*b*c*d*e*f)\n",
        "Num_tuple(5,6,8,3,9,1)"
      ],
      "execution_count": null,
      "outputs": [
        {
          "output_type": "execute_result",
          "data": {
            "text/plain": [
              "(30, 240, 720, 6480, 6480)"
            ]
          },
          "metadata": {
            "tags": []
          },
          "execution_count": 23
        }
      ]
    },
    {
      "cell_type": "code",
      "metadata": {
        "id": "yayFfBx2VCm8",
        "colab_type": "code",
        "colab": {
          "base_uri": "https://localhost:8080/",
          "height": 33
        },
        "outputId": "d846c2a9-a67a-4ac0-bc32-0f4e5f680ca1"
      },
      "source": [
        "#question:7\n",
        "list = [11,33,50]\n",
        "for n in list :\n",
        "      print(n,end=\"\")"
      ],
      "execution_count": null,
      "outputs": [
        {
          "output_type": "stream",
          "text": [
            "113350"
          ],
          "name": "stdout"
        }
      ]
    },
    {
      "cell_type": "code",
      "metadata": {
        "id": "slNCYM6VzgOj",
        "colab_type": "code",
        "colab": {
          "base_uri": "https://localhost:8080/",
          "height": 50
        },
        "outputId": "fec8310d-0607-4db0-e5ba-23665c1feb0f"
      },
      "source": [
        "#question:14\n",
        "a=int(input(\"enter the number\"))\n",
        "newlist=[]\n",
        "b=0\n",
        "while a>0 :\n",
        "  x=a%10\n",
        "  a=a//10\n",
        "  b=b*10+x\n",
        "while b>0 :\n",
        "  x=b%10\n",
        "  b=b//10\n",
        "  newlist.append(x)\n",
        "print(newlist)\n"
      ],
      "execution_count": 17,
      "outputs": [
        {
          "output_type": "stream",
          "text": [
            "enter the number343256\n",
            "[3, 4, 3, 2, 5, 6]\n"
          ],
          "name": "stdout"
        }
      ]
    },
    {
      "cell_type": "code",
      "metadata": {
        "id": "k594dW5N7Aiu",
        "colab_type": "code",
        "colab": {
          "base_uri": "https://localhost:8080/",
          "height": 84
        },
        "outputId": "62df28e1-555e-4dc9-d727-9e081cb203f5"
      },
      "source": [
        "#question:10\n",
        "y=int(input(\"enter year: \"))\n",
        "m=int(input(\"enter month: \"))\n",
        "d=int(input(\"enter date: \"))\n",
        "if y%4==0:\n",
        "  leapy=True\n",
        "else:\n",
        "  leapy==False\n",
        "if m==2:\n",
        "   if leapy:\n",
        "       m_length=29\n",
        "   else:\n",
        "       m_length=28\n",
        "elif m in(4,6,9,11):\n",
        "       m_length=30\n",
        "else:\n",
        "       m_length=31\n",
        "if d<m_length:\n",
        "   d=d+1\n",
        "else:\n",
        "   d=1\n",
        "   y+=1\n",
        "print(f\"successor date is [yyyy-mm-dd] : {y}-{m}-{d}\")"
      ],
      "execution_count": 21,
      "outputs": [
        {
          "output_type": "stream",
          "text": [
            "enter year: 2020\n",
            "enter month: 07\n",
            "enter date: 08\n",
            "successor date is [yyyy-mm-dd] : 2020-7-9\n"
          ],
          "name": "stdout"
        }
      ]
    },
    {
      "cell_type": "code",
      "metadata": {
        "id": "ccTJAQgHrFDj",
        "colab_type": "code",
        "colab": {
          "base_uri": "https://localhost:8080/",
          "height": 33
        },
        "outputId": "5aab4e8e-04cf-4a0c-85ad-5ff47d3ad43c"
      },
      "source": [
        "#question:11\n",
        "def num_list(a,b,c,d,e,f,g,h):\n",
        "  return a*b*c*d*e*f*g*h\n",
        "num_list(45,3,2,89,72,1,10,7)\n"
      ],
      "execution_count": 3,
      "outputs": [
        {
          "output_type": "execute_result",
          "data": {
            "text/plain": [
              "121111200"
            ]
          },
          "metadata": {
            "tags": []
          },
          "execution_count": 3
        }
      ]
    },
    {
      "cell_type": "code",
      "metadata": {
        "id": "gghf3yI3X0gv",
        "colab_type": "code",
        "colab": {
          "base_uri": "https://localhost:8080/",
          "height": 50
        },
        "outputId": "b464073b-efe8-498d-e7fb-38507a4dc921"
      },
      "source": [
        "#question:4\n",
        "new_string=input(\"Enter the string:\")\n",
        "str=new_string.replace(\" \",\"-\")\n",
        "print(str) "
      ],
      "execution_count": null,
      "outputs": [
        {
          "output_type": "stream",
          "text": [
            "Enter the string:we are from sru\n",
            "we-are-from-sru\n"
          ],
          "name": "stdout"
        }
      ]
    },
    {
      "cell_type": "code",
      "metadata": {
        "id": "YY7Y4xgQmjbS",
        "colab_type": "code",
        "colab": {
          "base_uri": "https://localhost:8080/",
          "height": 33
        },
        "outputId": "666ee9e7-23ee-4843-a910-839dbacb7244"
      },
      "source": [
        "#question:5\n",
        "my_list=\"orange\",\"red\",\"cyan\",\"green\",\"magneta\",\"pink\",\"white\"\n",
        "my_list=sorted(my_list)\n",
        "print(my_list)"
      ],
      "execution_count": 2,
      "outputs": [
        {
          "output_type": "stream",
          "text": [
            "['cyan', 'green', 'magneta', 'orange', 'pink', 'red', 'white']\n"
          ],
          "name": "stdout"
        }
      ]
    },
    {
      "cell_type": "code",
      "metadata": {
        "id": "Um0n1j7bdxLp",
        "colab_type": "code",
        "colab": {
          "base_uri": "https://localhost:8080/",
          "height": 50
        },
        "outputId": "cc6f5a65-4c45-427d-ce5a-fba6bfdc166f"
      },
      "source": [
        "#question:6\n",
        "salary=int(input(\"enter the salary:\"))\n",
        "if salary<=250000:\n",
        "   print(\"tax is zero\")\n",
        "elif salary<=500000:\n",
        "   print(\"tax to be paid:\",salary*0.05)\n",
        "elif salary<=750000:\n",
        "   print(\"tax to be paid:\",salary*0.10)\n",
        "elif salary<=1000000:\n",
        "   print(\"tax to be paid:\",salary*0.15)\n",
        "elif salary<=1250000:\n",
        "   print(\"tax to be paid:\",salary*0.20)\n",
        "else:\n",
        "   print(\"tax to be paid:\",salary*0.30)"
      ],
      "execution_count": null,
      "outputs": [
        {
          "output_type": "stream",
          "text": [
            "enter the salary:250000\n",
            "tax is zero\n"
          ],
          "name": "stdout"
        }
      ]
    },
    {
      "cell_type": "code",
      "metadata": {
        "id": "AZbyguOAmrRR",
        "colab_type": "code",
        "colab": {
          "base_uri": "https://localhost:8080/",
          "height": 100
        },
        "outputId": "663369ae-0e7b-4031-a174-326bdb0098e8"
      },
      "source": [
        "#question:8\n",
        "D=int(input(\"enter days\"))\n",
        "H=int(input(\"enter hours\"))\n",
        "M=int(input(\"enter minutes\"))\n",
        "S=int(input(\"enter saconds\"))\n",
        "A=D*24*60*60+H*60*60+M*60+S\n",
        "print(\"total seconds\",A)"
      ],
      "execution_count": null,
      "outputs": [
        {
          "output_type": "stream",
          "text": [
            "enter days2\n",
            "enter hours4\n",
            "enter minutes4\n",
            "enter saconds12\n",
            "total seconds 187452\n"
          ],
          "name": "stdout"
        }
      ]
    },
    {
      "cell_type": "code",
      "metadata": {
        "id": "g8e90uB0n4fl",
        "colab_type": "code",
        "colab": {
          "base_uri": "https://localhost:8080/",
          "height": 84
        },
        "outputId": "127fd540-7c31-4891-e3e2-9fa541dd764a"
      },
      "source": [
        "#question:1\n",
        "P=float(input(\"enter the first side of triangle:\"))\n",
        "Q=float(input(\"enter the second side of triangle:\"))\n",
        "R=float(input(\"enter the third side of triangle:\"))\n",
        "S=(P+Q+R)/2\n",
        "A=(S*(S-P)*(S-Q)*(S-R))**0.5\n",
        "print(\"the area of triangle:\",A)"
      ],
      "execution_count": null,
      "outputs": [
        {
          "output_type": "stream",
          "text": [
            "enter the first side of triangle:6\n",
            "enter the second side of triangle:7\n",
            "enter the third side of triangle:8\n",
            "the area of triangle: 20.33316256758894\n"
          ],
          "name": "stdout"
        }
      ]
    },
    {
      "cell_type": "code",
      "metadata": {
        "id": "zaqebUjUplHj",
        "colab_type": "code",
        "colab": {
          "base_uri": "https://localhost:8080/",
          "height": 50
        },
        "outputId": "141fba05-5673-4765-e8fc-6066912d4367"
      },
      "source": [
        "#question:2\n",
        "string=input(\"enter a string\")\n",
        "a=string[::-1]\n",
        "if string==a:\n",
        "  print(\"palindrome\")\n",
        "else:\n",
        " print(\"not palindrome\")"
      ],
      "execution_count": null,
      "outputs": [
        {
          "output_type": "stream",
          "text": [
            "enter a string121\n",
            "palindrome\n"
          ],
          "name": "stdout"
        }
      ]
    },
    {
      "cell_type": "code",
      "metadata": {
        "id": "bsGe7g5ihOQ1",
        "colab_type": "code",
        "colab": {
          "base_uri": "https://localhost:8080/",
          "height": 50
        },
        "outputId": "c876ed98-7d87-43c4-90e4-85e04dfc81a5"
      },
      "source": [
        "#question:3\n",
        "year=int(input(\"enter the year\"))\n",
        "if year%400==0:\n",
        "  print(\"it is leap year\".format(year))\n",
        "elif year%100==0:\n",
        "  print(\"it is leap year\".format(year))\n",
        "elif year%4==0:\n",
        "  print(\"it is leap year\".format(year))\n",
        "else:\n",
        "  print(\"it is not a leap year\".format(year))\n"
      ],
      "execution_count": null,
      "outputs": [
        {
          "output_type": "stream",
          "text": [
            "enter the year2016\n",
            "it is leap year\n"
          ],
          "name": "stdout"
        }
      ]
    },
    {
      "cell_type": "code",
      "metadata": {
        "id": "TECpivBCjjJc",
        "colab_type": "code",
        "colab": {
          "base_uri": "https://localhost:8080/",
          "height": 84
        },
        "outputId": "362bcb9b-023e-425a-9ad9-a6271b606352"
      },
      "source": [
        "#question:9\n",
        "A=int(input(\"enter first integer \"))\n",
        "B=int(input(\"enter second integer \"))\n",
        "C=int(input(\"enter third integer \"))\n",
        "p=max(A,B,C)\n",
        "q=min(A,B,C)\n",
        "V=A+B+C-p-q\n",
        "print(p,q,V)"
      ],
      "execution_count": null,
      "outputs": [
        {
          "output_type": "stream",
          "text": [
            "enter first integer 3\n",
            "enter second integer 4\n",
            "enter third integer 1\n",
            "4 1 3\n"
          ],
          "name": "stdout"
        }
      ]
    },
    {
      "cell_type": "code",
      "metadata": {
        "id": "ETFUdhW-0EC3",
        "colab_type": "code",
        "colab": {
          "base_uri": "https://localhost:8080/",
          "height": 50
        },
        "outputId": "4e9b776a-a06e-4dd8-cb24-8d058ec80c98"
      },
      "source": [
        "#question:15\n",
        "a=input(\"Enter a palindrome \")\n",
        "list1=[]\n",
        "list2=[]\n",
        "index=0\n",
        "for i in range(0,len(a)-1):\n",
        "   for j in range(i+1,len(a)+1):\n",
        "       if j-i>1:\n",
        "         p=a[i:j]\n",
        "         if (p==p[::-1]):\n",
        "           list1.append(a[i:j])\n",
        "           list2.append(len(a[i:j]))\n",
        "           maximum=max(list2)\n",
        "           for i in list2:\n",
        "             if i==maximum:\n",
        "                print(list1[index])\n",
        "             else:\n",
        "                index=index+1    \n",
        "\n",
        "                       "
      ],
      "execution_count": 8,
      "outputs": [
        {
          "output_type": "stream",
          "text": [
            "Enter a palindrome ata\n",
            "ata\n"
          ],
          "name": "stdout"
        }
      ]
    },
    {
      "cell_type": "code",
      "metadata": {
        "id": "MCqXr4y93AgV",
        "colab_type": "code",
        "colab": {
          "base_uri": "https://localhost:8080/",
          "height": 67
        },
        "outputId": "422207b4-baba-4646-ac36-d6b7a3dd7e78"
      },
      "source": [
        "#question:16\n",
        "a=input(\"enter binary number of length 10 \")\n",
        "b=input(\"enter binary number of length 5 \")\n",
        "if b[:] in a[:] :\n",
        "  print(1)\n",
        "else:\n",
        "  print(0)"
      ],
      "execution_count": 12,
      "outputs": [
        {
          "output_type": "stream",
          "text": [
            "enter binary number of length 10 1010110010\n",
            "enter binary number of length 5 10110\n",
            "1\n"
          ],
          "name": "stdout"
        }
      ]
    }
  ]
}