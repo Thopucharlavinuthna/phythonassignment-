{
  "nbformat": 4,
  "nbformat_minor": 0,
  "metadata": {
    "colab": {
      "name": "Untitled1.ipynb",
      "provenance": []
    },
    "kernelspec": {
      "name": "python3",
      "display_name": "Python 3"
    }
  },
  "cells": [
    {
      "cell_type": "code",
      "metadata": {
        "id": "EvK0_gW5CnMK",
        "colab_type": "code",
        "colab": {
          "base_uri": "https://localhost:8080/",
          "height": 106
        },
        "outputId": "6ad96fda-02b2-4b66-c84e-71514b635c9c"
      },
      "source": [
        "#question:1\n",
        "print(0.1+0.2)\n",
        "print(\"1.8\"+\"2\")\n",
        "print(87>78)\n",
        "print((0.1+0.2)==0.3)\n",
        "print(\"predict\"\"output\",\"....\")"
      ],
      "execution_count": 2,
      "outputs": [
        {
          "output_type": "stream",
          "text": [
            "0.30000000000000004\n",
            "1.82\n",
            "True\n",
            "False\n",
            "predictoutput ....\n"
          ],
          "name": "stdout"
        }
      ]
    },
    {
      "cell_type": "code",
      "metadata": {
        "id": "8wfr0QNODl09",
        "colab_type": "code",
        "colab": {
          "base_uri": "https://localhost:8080/",
          "height": 124
        },
        "outputId": "07cc33ba-c5c3-4460-f198-943386f79b1f"
      },
      "source": [
        "#question:2\n",
        "print(\"prints\",\"multiple\",\"messages\\n\")\n",
        "print(\"concatenate\"+\"two strings\\n\")\n",
        "print('5+6+'\"adds two numbers\\n\")"
      ],
      "execution_count": 11,
      "outputs": [
        {
          "output_type": "stream",
          "text": [
            "prints multiple messages\n",
            "\n",
            "concatenatetwo strings\n",
            "\n",
            "5+6+adds two numbers\n",
            "\n"
          ],
          "name": "stdout"
        }
      ]
    },
    {
      "cell_type": "code",
      "metadata": {
        "id": "g7LvrSrrFsYH",
        "colab_type": "code",
        "colab": {
          "base_uri": "https://localhost:8080/",
          "height": 52
        },
        "outputId": "800bcaf2-f4ec-4414-e171-4cdc91e919ea"
      },
      "source": [
        "#question:3\n",
        "print(\"ba\"+\"na\"*2)\n",
        "print(\"c:\\\\naresh\\\\raju\\\\abhi\")"
      ],
      "execution_count": 9,
      "outputs": [
        {
          "output_type": "stream",
          "text": [
            "banana\n",
            "c:\\naresh\\raju\\abhi\n"
          ],
          "name": "stdout"
        }
      ]
    },
    {
      "cell_type": "code",
      "metadata": {
        "id": "qZijbPqWG3a8",
        "colab_type": "code",
        "colab": {
          "base_uri": "https://localhost:8080/",
          "height": 52
        },
        "outputId": "0d5e28ee-7940-45b7-bd37-7158c61919cf"
      },
      "source": [
        "#question:4\n",
        "str='welcome to phython program'\n",
        "print(str[0:32:4])\n",
        "tr='A series of characters designated as one object known as string'\n",
        "tr[2:19:5]"
      ],
      "execution_count": 13,
      "outputs": [
        {
          "output_type": "stream",
          "text": [
            "wothora\n"
          ],
          "name": "stdout"
        },
        {
          "output_type": "execute_result",
          "data": {
            "text/plain": [
              "'sscc'"
            ]
          },
          "metadata": {
            "tags": []
          },
          "execution_count": 13
        }
      ]
    },
    {
      "cell_type": "code",
      "metadata": {
        "id": "IG-bYUF-ICL1",
        "colab_type": "code",
        "colab": {
          "base_uri": "https://localhost:8080/",
          "height": 70
        },
        "outputId": "b93f059e-6ef4-444d-9944-1a1fb5c4b95f"
      },
      "source": [
        "\n",
        "#question:5\n",
        "print('A series of characters designed as one object known as a string'[::1][4::3])\n",
        "print(\"----------\")\n",
        "print('welcome to phython training program'[3:10][::-1])"
      ],
      "execution_count": 20,
      "outputs": [
        {
          "output_type": "stream",
          "text": [
            "rsfhae sn  ebckwaatn\n",
            "----------\n",
            "ot emoc\n"
          ],
          "name": "stdout"
        }
      ]
    },
    {
      "cell_type": "code",
      "metadata": {
        "id": "YRWXyax-KGQo",
        "colab_type": "code",
        "colab": {
          "base_uri": "https://localhost:8080/",
          "height": 52
        },
        "outputId": "128d32d6-9adb-424b-f14f-4db6e5712110"
      },
      "source": [
        "#question:6a\n",
        "str1=True\n",
        "x=5>3\n",
        "print(str1==x)\n",
        "y=5>8\n",
        "print(str1==y)\n",
        "      "
      ],
      "execution_count": 23,
      "outputs": [
        {
          "output_type": "stream",
          "text": [
            "True\n",
            "False\n"
          ],
          "name": "stdout"
        }
      ]
    },
    {
      "cell_type": "code",
      "metadata": {
        "id": "YjxO3MYDLSmt",
        "colab_type": "code",
        "colab": {
          "base_uri": "https://localhost:8080/",
          "height": 35
        },
        "outputId": "87bd6bc8-f975-49a8-eae8-87661418e897"
      },
      "source": [
        "#question:6b\n",
        "num=7\n",
        "Name=\"Michael Jackson\"\n",
        "sear_num=Name.find('el')\n",
        "print(num>sear_num)"
      ],
      "execution_count": 26,
      "outputs": [
        {
          "output_type": "stream",
          "text": [
            "True\n"
          ],
          "name": "stdout"
        }
      ]
    },
    {
      "cell_type": "code",
      "metadata": {
        "id": "OmKXAInlMBbv",
        "colab_type": "code",
        "colab": {
          "base_uri": "https://localhost:8080/",
          "height": 35
        },
        "outputId": "ef405b7e-69cb-43b6-cbf2-c13bf6da822f"
      },
      "source": [
        "#question:7\n",
        "p_phrase=\"was it a car or a cat I saw\".upper()\n",
        "p_phrase[::-1]\n"
      ],
      "execution_count": 27,
      "outputs": [
        {
          "output_type": "execute_result",
          "data": {
            "text/plain": [
              "'WAS I TAC A RO RAC A TI SAW'"
            ]
          },
          "metadata": {
            "tags": []
          },
          "execution_count": 27
        }
      ]
    },
    {
      "cell_type": "code",
      "metadata": {
        "id": "0bSC-LiYNFV5",
        "colab_type": "code",
        "colab": {
          "base_uri": "https://localhost:8080/",
          "height": 35
        },
        "outputId": "02396f7b-7748-435c-80a0-ca69d4c7df64"
      },
      "source": [
        "#question:8\n",
        "a='1934567'\n",
        "a[1:7:2]"
      ],
      "execution_count": 28,
      "outputs": [
        {
          "output_type": "execute_result",
          "data": {
            "text/plain": [
              "'946'"
            ]
          },
          "metadata": {
            "tags": []
          },
          "execution_count": 28
        }
      ]
    },
    {
      "cell_type": "code",
      "metadata": {
        "id": "nFKhYqs3NtZO",
        "colab_type": "code",
        "colab": {
          "base_uri": "https://localhost:8080/",
          "height": 35
        },
        "outputId": "0074b66f-1e0c-48b6-ad60-a4dfc9c717aa"
      },
      "source": [
        "#question:9\n",
        "fake_phrase=\"Fake news has a knack for spreding like wildfire\".upper()\n",
        "out=fake_phrase[-9:14:-1]\n",
        "out.split()"
      ],
      "execution_count": 31,
      "outputs": [
        {
          "output_type": "execute_result",
          "data": {
            "text/plain": [
              "['EKIL', 'GNIDERPS', 'ROF', 'KCANK']"
            ]
          },
          "metadata": {
            "tags": []
          },
          "execution_count": 31
        }
      ]
    },
    {
      "cell_type": "code",
      "metadata": {
        "id": "orBj7ssIPTLO",
        "colab_type": "code",
        "colab": {
          "base_uri": "https://localhost:8080/",
          "height": 35
        },
        "outputId": "df54ea3f-11a9-4cd2-e40e-af0c2d923f66"
      },
      "source": [
        "\n",
        "#question:10\n",
        "msg1=\"facebook already uses AI to filter for spreading like wildfire\".split()\n",
        "out=msg1\n",
        "print(out)"
      ],
      "execution_count": 33,
      "outputs": [
        {
          "output_type": "stream",
          "text": [
            "['facebook', 'already', 'uses', 'AI', 'to', 'filter', 'for', 'spreading', 'like', 'wildfire']\n"
          ],
          "name": "stdout"
        }
      ]
    },
    {
      "cell_type": "code",
      "metadata": {
        "id": "SZvQllZ3QfDh",
        "colab_type": "code",
        "colab": {
          "base_uri": "https://localhost:8080/",
          "height": 35
        },
        "outputId": "f462a35d-0c47-4479-9487-6c975c26b07c"
      },
      "source": [
        "#question:11\n",
        "msg2 = \"welcome to sr engineering college\"\n",
        "x=msg2.count('o')\n",
        "y=msg2.count('r')\n",
        "msg2[y**x:(x**y+x+y):][::-1]\n",
        "#x=3,y=2,y**x=2**3=8,x**y+x+y=3**2+3+2=14 msg2[8:14:]\n",
        "#We will get 'to sr'\n",
        "#msg2["
      ],
      "execution_count": 54,
      "outputs": [
        {
          "output_type": "execute_result",
          "data": {
            "text/plain": [
              "' rs ot'"
            ]
          },
          "metadata": {
            "tags": []
          },
          "execution_count": 54
        }
      ]
    },
    {
      "cell_type": "code",
      "metadata": {
        "id": "OEehQYpxSQFp",
        "colab_type": "code",
        "colab": {
          "base_uri": "https://localhost:8080/",
          "height": 35
        },
        "outputId": "b3f60418-fa7a-4454-8c88-44579eaa43b1"
      },
      "source": [
        "#question:12a\n",
        "num1,num2=\"94\",\"30\"\n",
        "data=\"As per census 2011,gender ratio of india is 943 females per 1000 males\"\n",
        "num1+num2[0] in data"
      ],
      "execution_count": 40,
      "outputs": [
        {
          "output_type": "execute_result",
          "data": {
            "text/plain": [
              "True"
            ]
          },
          "metadata": {
            "tags": []
          },
          "execution_count": 40
        }
      ]
    },
    {
      "cell_type": "code",
      "metadata": {
        "id": "bleNgxOKUwvx",
        "colab_type": "code",
        "colab": {
          "base_uri": "https://localhost:8080/",
          "height": 52
        },
        "outputId": "f5ff615a-3c0d-457b-b056-46679b832189"
      },
      "source": [
        "#question:12b\n",
        "print(data[:45],print(int(num1)+int(num2)))"
      ],
      "execution_count": 43,
      "outputs": [
        {
          "output_type": "stream",
          "text": [
            "124\n",
            "As per census 2011,gender ratio of india is 9 None\n"
          ],
          "name": "stdout"
        }
      ]
    },
    {
      "cell_type": "code",
      "metadata": {
        "id": "lOms7avUVqpO",
        "colab_type": "code",
        "colab": {
          "base_uri": "https://localhost:8080/",
          "height": 52
        },
        "outputId": "3e2a2c0a-1bf2-48a3-924e-316f1805a1f9"
      },
      "source": [
        "#question:14\n",
        "x=int(input(\"enter x\"))\n",
        "y=2*x;\n",
        "z=('z'*x)+('0'*y)\n",
        "z"
      ],
      "execution_count": 47,
      "outputs": [
        {
          "output_type": "stream",
          "text": [
            "enter x2\n"
          ],
          "name": "stdout"
        },
        {
          "output_type": "execute_result",
          "data": {
            "text/plain": [
              "'zz0000'"
            ]
          },
          "metadata": {
            "tags": []
          },
          "execution_count": 47
        }
      ]
    },
    {
      "cell_type": "code",
      "metadata": {
        "id": "2QYMTWVRXZuf",
        "colab_type": "code",
        "colab": {
          "base_uri": "https://localhost:8080/",
          "height": 70
        },
        "outputId": "76187edd-7eb7-4957-d3c3-70e6db6c5fb5"
      },
      "source": [
        "#question:15\n",
        "x=int(input(\"enter x\"))\n",
        "y=int(input(\"enter y\"))\n",
        "pow=x**y\n",
        "pow\n",
        "div=pow//(x+y)\n",
        "div\n",
        "out=div^(x+y)\n",
        "out\n"
      ],
      "execution_count": 48,
      "outputs": [
        {
          "output_type": "stream",
          "text": [
            "enter x2\n",
            "enter y2\n"
          ],
          "name": "stdout"
        },
        {
          "output_type": "execute_result",
          "data": {
            "text/plain": [
              "5"
            ]
          },
          "metadata": {
            "tags": []
          },
          "execution_count": 48
        }
      ]
    },
    {
      "cell_type": "code",
      "metadata": {
        "id": "EXsVapyJZn9s",
        "colab_type": "code",
        "colab": {
          "base_uri": "https://localhost:8080/",
          "height": 88
        },
        "outputId": "5b8ca189-9647-4d98-aa88-3038cbe35bb2"
      },
      "source": [
        "#question:13\n",
        "m=int(input(\"enter amount of water in kg\"))\n",
        "b=int(input(\"enter intial temperature\"))\n",
        "c=int(input(\"enter final temperature\"))\n",
        "Q=m*(c-b)*4184\n",
        "print(Q)"
      ],
      "execution_count": 51,
      "outputs": [
        {
          "output_type": "stream",
          "text": [
            "enter amount of water in kg1\n",
            "enter intial temperature1\n",
            "enter final temperature2\n",
            "4184\n"
          ],
          "name": "stdout"
        }
      ]
    }
  ]
}